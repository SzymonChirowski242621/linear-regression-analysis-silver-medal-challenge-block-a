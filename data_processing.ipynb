{
 "cells": [
  {
   "metadata": {},
   "cell_type": "markdown",
   "source": "# Data Processing",
   "id": "83bfeaeeb856b873"
  },
  {
   "cell_type": "code",
   "id": "initial_id",
   "metadata": {
    "collapsed": true,
    "ExecuteTime": {
     "end_time": "2024-10-06T20:12:42.463137Z",
     "start_time": "2024-10-06T20:12:42.458725Z"
    }
   },
   "source": [
    "import pandas as pd\n",
    "import numpy as np\n",
    "import matplotlib.pyplot as plt\n",
    "import seaborn as sns\n",
    "\n",
    "sns.set_theme(style=\"whitegrid\")"
   ],
   "outputs": [],
   "execution_count": 1
  },
  {
   "metadata": {},
   "cell_type": "markdown",
   "source": "## Load Data",
   "id": "e751c122aee7a786"
  },
  {
   "metadata": {
    "ExecuteTime": {
     "end_time": "2024-10-06T20:12:43.035044Z",
     "start_time": "2024-10-06T20:12:42.486154Z"
    }
   },
   "cell_type": "code",
   "source": [
    "df = pd.read_excel('data/pivot_merged_table.xlsx')\n",
    "df.head()"
   ],
   "id": "6de02f2342f3ccf9",
   "outputs": [
    {
     "data": {
      "text/plain": [
       "       Country  Year    GDP          P_KM  TEU      T_KM\n",
       "0  Afghanistan  2017  74712  1.843686e+09    0  21462557\n",
       "1  Afghanistan  2018  77332  1.198398e+09    0  29559349\n",
       "2  Afghanistan  2019  81706  1.039593e+09    0  20014206\n",
       "3  Afghanistan  2020  80839  5.044067e+08    0  19878902\n",
       "4  Afghanistan  2021  72251  3.000477e+08    0  12020125"
      ],
      "text/html": [
       "<div>\n",
       "<style scoped>\n",
       "    .dataframe tbody tr th:only-of-type {\n",
       "        vertical-align: middle;\n",
       "    }\n",
       "\n",
       "    .dataframe tbody tr th {\n",
       "        vertical-align: top;\n",
       "    }\n",
       "\n",
       "    .dataframe thead th {\n",
       "        text-align: right;\n",
       "    }\n",
       "</style>\n",
       "<table border=\"1\" class=\"dataframe\">\n",
       "  <thead>\n",
       "    <tr style=\"text-align: right;\">\n",
       "      <th></th>\n",
       "      <th>Country</th>\n",
       "      <th>Year</th>\n",
       "      <th>GDP</th>\n",
       "      <th>P_KM</th>\n",
       "      <th>TEU</th>\n",
       "      <th>T_KM</th>\n",
       "    </tr>\n",
       "  </thead>\n",
       "  <tbody>\n",
       "    <tr>\n",
       "      <th>0</th>\n",
       "      <td>Afghanistan</td>\n",
       "      <td>2017</td>\n",
       "      <td>74712</td>\n",
       "      <td>1.843686e+09</td>\n",
       "      <td>0</td>\n",
       "      <td>21462557</td>\n",
       "    </tr>\n",
       "    <tr>\n",
       "      <th>1</th>\n",
       "      <td>Afghanistan</td>\n",
       "      <td>2018</td>\n",
       "      <td>77332</td>\n",
       "      <td>1.198398e+09</td>\n",
       "      <td>0</td>\n",
       "      <td>29559349</td>\n",
       "    </tr>\n",
       "    <tr>\n",
       "      <th>2</th>\n",
       "      <td>Afghanistan</td>\n",
       "      <td>2019</td>\n",
       "      <td>81706</td>\n",
       "      <td>1.039593e+09</td>\n",
       "      <td>0</td>\n",
       "      <td>20014206</td>\n",
       "    </tr>\n",
       "    <tr>\n",
       "      <th>3</th>\n",
       "      <td>Afghanistan</td>\n",
       "      <td>2020</td>\n",
       "      <td>80839</td>\n",
       "      <td>5.044067e+08</td>\n",
       "      <td>0</td>\n",
       "      <td>19878902</td>\n",
       "    </tr>\n",
       "    <tr>\n",
       "      <th>4</th>\n",
       "      <td>Afghanistan</td>\n",
       "      <td>2021</td>\n",
       "      <td>72251</td>\n",
       "      <td>3.000477e+08</td>\n",
       "      <td>0</td>\n",
       "      <td>12020125</td>\n",
       "    </tr>\n",
       "  </tbody>\n",
       "</table>\n",
       "</div>"
      ]
     },
     "execution_count": 2,
     "metadata": {},
     "output_type": "execute_result"
    }
   ],
   "execution_count": 2
  },
  {
   "metadata": {},
   "cell_type": "markdown",
   "source": "## Data Processing",
   "id": "a000ad6fe6eb8c4c"
  },
  {
   "metadata": {},
   "cell_type": "markdown",
   "source": "### Capping Outliers",
   "id": "9f190783184be085"
  },
  {
   "metadata": {
    "ExecuteTime": {
     "end_time": "2024-10-06T20:12:43.262778Z",
     "start_time": "2024-10-06T20:12:43.250769Z"
    }
   },
   "cell_type": "code",
   "source": [
    "def modify_values(table, column, new_column):\n",
    "    Q1 = table[column].quantile(0.25)\n",
    "    Q3 = table[column].quantile(0.75)\n",
    "    IQR = Q3 - Q1\n",
    "    lower_bound = Q1 - 1.5 * IQR\n",
    "    upper_bound = Q3 + 1.5 * IQR\n",
    "    table[new_column] = table[column]\n",
    "    table.loc[table[new_column] < lower_bound, new_column] = lower_bound\n",
    "    table.loc[table[new_column] > upper_bound, new_column] = upper_bound\n",
    "    return table\n",
    "\n",
    "df = modify_values(df, 'P_KM', 'updated_PKM')"
   ],
   "id": "d6f4e354e608cb1d",
   "outputs": [],
   "execution_count": 3
  },
  {
   "metadata": {
    "ExecuteTime": {
     "end_time": "2024-10-06T20:15:08.203606Z",
     "start_time": "2024-10-06T20:15:08.189289Z"
    }
   },
   "cell_type": "code",
   "source": [
    "df = modify_values(df, 'GDP', 'updated_GDP')\n",
    "df = modify_values(df, 'P_KM', 'updated_PKM')\n",
    "df = modify_values(df, 'T_KM', 'updated_TKM')\n",
    "df = modify_values(df, 'TEU', 'updated_TEU')"
   ],
   "id": "139e8045077aa08e",
   "outputs": [],
   "execution_count": 11
  },
  {
   "metadata": {},
   "cell_type": "markdown",
   "source": "### Normalization",
   "id": "677cdfe3f3dbce61"
  },
  {
   "metadata": {
    "ExecuteTime": {
     "end_time": "2024-10-06T20:18:04.655837Z",
     "start_time": "2024-10-06T20:18:04.652162Z"
    }
   },
   "cell_type": "code",
   "source": "from sklearn.preprocessing import StandardScaler",
   "id": "ec366903679df706",
   "outputs": [],
   "execution_count": 16
  },
  {
   "metadata": {
    "ExecuteTime": {
     "end_time": "2024-10-06T20:18:05.557428Z",
     "start_time": "2024-10-06T20:18:05.537279Z"
    }
   },
   "cell_type": "code",
   "source": [
    "scaler = StandardScaler()\n",
    "df['normalized_GDP'] = scaler.fit_transform(df[['updated_GDP']])\n",
    "df['normalized_PKM'] = scaler.fit_transform(df[['updated_PKM']])\n",
    "df['normalized_TKM'] = scaler.fit_transform(df[['updated_TKM']])\n",
    "df['normalized_TEU'] = scaler.fit_transform(df[['updated_TEU']])"
   ],
   "id": "dc7f47322b1f3e41",
   "outputs": [],
   "execution_count": 17
  },
  {
   "metadata": {
    "ExecuteTime": {
     "end_time": "2024-10-06T20:18:07.639569Z",
     "start_time": "2024-10-06T20:18:07.621606Z"
    }
   },
   "cell_type": "code",
   "source": "df.head()",
   "id": "5079dc7f6db8d128",
   "outputs": [
    {
     "data": {
      "text/plain": [
       "       Country  Year    GDP          P_KM  TEU      T_KM   updated_PKM  \\\n",
       "0  Afghanistan  2017  74712  1.843686e+09    0  21462557  1.843686e+09   \n",
       "1  Afghanistan  2018  77332  1.198398e+09    0  29559349  1.198398e+09   \n",
       "2  Afghanistan  2019  81706  1.039593e+09    0  20014206  1.039593e+09   \n",
       "3  Afghanistan  2020  80839  5.044067e+08    0  19878902  5.044067e+08   \n",
       "4  Afghanistan  2021  72251  3.000477e+08    0  12020125  3.000477e+08   \n",
       "\n",
       "   updated_GDP  updated_TKM  updated_TEU  normalized_PKM  normalized_GDP  \\\n",
       "0      74712.0   21462557.0          0.0       -0.502872       -0.780543   \n",
       "1      77332.0   29559349.0          0.0       -0.563295       -0.777463   \n",
       "2      81706.0   20014206.0          0.0       -0.578165       -0.772321   \n",
       "3      80839.0   19878902.0          0.0       -0.628278       -0.773340   \n",
       "4      72251.0   12020125.0          0.0       -0.647414       -0.783436   \n",
       "\n",
       "   normalized_TKM  normalized_TEU  \n",
       "0       -0.558078       -0.771503  \n",
       "1       -0.526117       -0.771503  \n",
       "2       -0.563795       -0.771503  \n",
       "3       -0.564329       -0.771503  \n",
       "4       -0.595351       -0.771503  "
      ],
      "text/html": [
       "<div>\n",
       "<style scoped>\n",
       "    .dataframe tbody tr th:only-of-type {\n",
       "        vertical-align: middle;\n",
       "    }\n",
       "\n",
       "    .dataframe tbody tr th {\n",
       "        vertical-align: top;\n",
       "    }\n",
       "\n",
       "    .dataframe thead th {\n",
       "        text-align: right;\n",
       "    }\n",
       "</style>\n",
       "<table border=\"1\" class=\"dataframe\">\n",
       "  <thead>\n",
       "    <tr style=\"text-align: right;\">\n",
       "      <th></th>\n",
       "      <th>Country</th>\n",
       "      <th>Year</th>\n",
       "      <th>GDP</th>\n",
       "      <th>P_KM</th>\n",
       "      <th>TEU</th>\n",
       "      <th>T_KM</th>\n",
       "      <th>updated_PKM</th>\n",
       "      <th>updated_GDP</th>\n",
       "      <th>updated_TKM</th>\n",
       "      <th>updated_TEU</th>\n",
       "      <th>normalized_PKM</th>\n",
       "      <th>normalized_GDP</th>\n",
       "      <th>normalized_TKM</th>\n",
       "      <th>normalized_TEU</th>\n",
       "    </tr>\n",
       "  </thead>\n",
       "  <tbody>\n",
       "    <tr>\n",
       "      <th>0</th>\n",
       "      <td>Afghanistan</td>\n",
       "      <td>2017</td>\n",
       "      <td>74712</td>\n",
       "      <td>1.843686e+09</td>\n",
       "      <td>0</td>\n",
       "      <td>21462557</td>\n",
       "      <td>1.843686e+09</td>\n",
       "      <td>74712.0</td>\n",
       "      <td>21462557.0</td>\n",
       "      <td>0.0</td>\n",
       "      <td>-0.502872</td>\n",
       "      <td>-0.780543</td>\n",
       "      <td>-0.558078</td>\n",
       "      <td>-0.771503</td>\n",
       "    </tr>\n",
       "    <tr>\n",
       "      <th>1</th>\n",
       "      <td>Afghanistan</td>\n",
       "      <td>2018</td>\n",
       "      <td>77332</td>\n",
       "      <td>1.198398e+09</td>\n",
       "      <td>0</td>\n",
       "      <td>29559349</td>\n",
       "      <td>1.198398e+09</td>\n",
       "      <td>77332.0</td>\n",
       "      <td>29559349.0</td>\n",
       "      <td>0.0</td>\n",
       "      <td>-0.563295</td>\n",
       "      <td>-0.777463</td>\n",
       "      <td>-0.526117</td>\n",
       "      <td>-0.771503</td>\n",
       "    </tr>\n",
       "    <tr>\n",
       "      <th>2</th>\n",
       "      <td>Afghanistan</td>\n",
       "      <td>2019</td>\n",
       "      <td>81706</td>\n",
       "      <td>1.039593e+09</td>\n",
       "      <td>0</td>\n",
       "      <td>20014206</td>\n",
       "      <td>1.039593e+09</td>\n",
       "      <td>81706.0</td>\n",
       "      <td>20014206.0</td>\n",
       "      <td>0.0</td>\n",
       "      <td>-0.578165</td>\n",
       "      <td>-0.772321</td>\n",
       "      <td>-0.563795</td>\n",
       "      <td>-0.771503</td>\n",
       "    </tr>\n",
       "    <tr>\n",
       "      <th>3</th>\n",
       "      <td>Afghanistan</td>\n",
       "      <td>2020</td>\n",
       "      <td>80839</td>\n",
       "      <td>5.044067e+08</td>\n",
       "      <td>0</td>\n",
       "      <td>19878902</td>\n",
       "      <td>5.044067e+08</td>\n",
       "      <td>80839.0</td>\n",
       "      <td>19878902.0</td>\n",
       "      <td>0.0</td>\n",
       "      <td>-0.628278</td>\n",
       "      <td>-0.773340</td>\n",
       "      <td>-0.564329</td>\n",
       "      <td>-0.771503</td>\n",
       "    </tr>\n",
       "    <tr>\n",
       "      <th>4</th>\n",
       "      <td>Afghanistan</td>\n",
       "      <td>2021</td>\n",
       "      <td>72251</td>\n",
       "      <td>3.000477e+08</td>\n",
       "      <td>0</td>\n",
       "      <td>12020125</td>\n",
       "      <td>3.000477e+08</td>\n",
       "      <td>72251.0</td>\n",
       "      <td>12020125.0</td>\n",
       "      <td>0.0</td>\n",
       "      <td>-0.647414</td>\n",
       "      <td>-0.783436</td>\n",
       "      <td>-0.595351</td>\n",
       "      <td>-0.771503</td>\n",
       "    </tr>\n",
       "  </tbody>\n",
       "</table>\n",
       "</div>"
      ]
     },
     "execution_count": 18,
     "metadata": {},
     "output_type": "execute_result"
    }
   ],
   "execution_count": 18
  },
  {
   "metadata": {},
   "cell_type": "markdown",
   "source": "## Save Data",
   "id": "265d82b2cb760b20"
  },
  {
   "metadata": {
    "ExecuteTime": {
     "end_time": "2024-10-06T20:18:37.274496Z",
     "start_time": "2024-10-06T20:18:36.999897Z"
    }
   },
   "cell_type": "code",
   "source": "df.to_excel('data/processed_data.xlsx', index=False)",
   "id": "98a3085789433be1",
   "outputs": [],
   "execution_count": 19
  }
 ],
 "metadata": {
  "kernelspec": {
   "display_name": "Python 3",
   "language": "python",
   "name": "python3"
  },
  "language_info": {
   "codemirror_mode": {
    "name": "ipython",
    "version": 2
   },
   "file_extension": ".py",
   "mimetype": "text/x-python",
   "name": "python",
   "nbconvert_exporter": "python",
   "pygments_lexer": "ipython2",
   "version": "2.7.6"
  }
 },
 "nbformat": 4,
 "nbformat_minor": 5
}
